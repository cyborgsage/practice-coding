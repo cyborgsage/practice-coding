{
 "cells": [
  {
   "cell_type": "code",
   "execution_count": 55,
   "metadata": {},
   "outputs": [],
   "source": [
    "import pandas as pd\n",
    "import numpy as np\n",
    "from datetime import datetime\n",
    "import math"
   ]
  },
  {
   "cell_type": "code",
   "execution_count": 2,
   "metadata": {},
   "outputs": [
    {
     "name": "stdout",
     "output_type": "stream",
     "text": [
      "0    1\n",
      "1    2\n",
      "2    3\n",
      "3    4\n",
      "4    5\n",
      "dtype: int64\n"
     ]
    }
   ],
   "source": [
    "# Pandas Series\n",
    "\n",
    "series = pd.Series([1,2,3,4,5])\n",
    "print(series)"
   ]
  },
  {
   "cell_type": "code",
   "execution_count": 3,
   "metadata": {},
   "outputs": [
    {
     "name": "stdout",
     "output_type": "stream",
     "text": [
      "a    1\n",
      "b    2\n",
      "c    3\n",
      "d    4\n",
      "c    5\n",
      "dtype: int64\n"
     ]
    }
   ],
   "source": [
    "# Create using specified index\n",
    "series = pd.Series([1,2,3,4,5], index=['a','b','c','d','c'])\n",
    "print(series)"
   ]
  },
  {
   "cell_type": "code",
   "execution_count": 4,
   "metadata": {},
   "outputs": [
    {
     "name": "stdout",
     "output_type": "stream",
     "text": [
      "3\n",
      "3\n"
     ]
    }
   ],
   "source": [
    "# Accessing elements in a series\n",
    "print(series[2])\n",
    "print(series.iloc[2])"
   ]
  },
  {
   "cell_type": "code",
   "execution_count": 5,
   "metadata": {},
   "outputs": [
    {
     "name": "stdout",
     "output_type": "stream",
     "text": [
      "4\n",
      "4\n"
     ]
    }
   ],
   "source": [
    "print(series['d'])\n",
    "print(series.loc['d'])"
   ]
  },
  {
   "cell_type": "code",
   "execution_count": 6,
   "metadata": {},
   "outputs": [
    {
     "name": "stdout",
     "output_type": "stream",
     "text": [
      "c    3\n",
      "c    5\n",
      "dtype: int64\n"
     ]
    }
   ],
   "source": [
    "print(series['c'])"
   ]
  },
  {
   "cell_type": "code",
   "execution_count": 7,
   "metadata": {},
   "outputs": [
    {
     "name": "stdout",
     "output_type": "stream",
     "text": [
      "c    3\n",
      "d    4\n",
      "c    5\n",
      "dtype: int64\n",
      "c    3\n",
      "d    4\n",
      "c    5\n",
      "dtype: int64\n"
     ]
    }
   ],
   "source": [
    "print(series[2:])\n",
    "print(series.iloc[2:])"
   ]
  },
  {
   "cell_type": "code",
   "execution_count": 8,
   "metadata": {},
   "outputs": [
    {
     "name": "stdout",
     "output_type": "stream",
     "text": [
      "DatetimeIndex(['2019-05-25', '2019-05-26', '2019-05-27', '2019-05-28',\n",
      "               '2019-05-29', '2019-05-30', '2019-05-31', '2019-06-01',\n",
      "               '2019-06-02', '2019-06-03', '2019-06-04', '2019-06-05'],\n",
      "              dtype='datetime64[ns]', freq='D')\n"
     ]
    }
   ],
   "source": [
    "# Specifying a datetime range as the index of a series\n",
    "dates1 = pd.date_range('20190525', periods=12)\n",
    "print(dates1)"
   ]
  },
  {
   "cell_type": "code",
   "execution_count": 9,
   "metadata": {},
   "outputs": [
    {
     "name": "stdout",
     "output_type": "stream",
     "text": [
      "2019-05-25     1\n",
      "2019-05-26     2\n",
      "2019-05-27     3\n",
      "2019-05-28     4\n",
      "2019-05-29     5\n",
      "2019-05-30     6\n",
      "2019-05-31     7\n",
      "2019-06-01     8\n",
      "2019-06-02     9\n",
      "2019-06-03    10\n",
      "2019-06-04    11\n",
      "2019-06-05    12\n",
      "Freq: D, dtype: int64\n"
     ]
    }
   ],
   "source": [
    "series = pd.Series([1,2,3,4,5,6,7,8,9,10,11,12])\n",
    "series.index = dates1\n",
    "print(series)"
   ]
  },
  {
   "cell_type": "code",
   "execution_count": 10,
   "metadata": {},
   "outputs": [
    {
     "name": "stdout",
     "output_type": "stream",
     "text": [
      "DatetimeIndex(['2019-05-31', '2019-06-30', '2019-07-31', '2019-08-31',\n",
      "               '2019-09-30', '2019-10-31', '2019-11-30', '2019-12-31',\n",
      "               '2020-01-31', '2020-02-29', '2020-03-31', '2020-04-30'],\n",
      "              dtype='datetime64[ns]', freq='M')\n"
     ]
    }
   ],
   "source": [
    "# change the frequency parameter to month. will create datetime index of month intervals\n",
    "\n",
    "dates2 = pd.date_range('2019-05-01', periods=12, freq='M')\n",
    "print(dates2)"
   ]
  },
  {
   "cell_type": "code",
   "execution_count": 11,
   "metadata": {},
   "outputs": [
    {
     "data": {
      "text/plain": [
       "DatetimeIndex(['2019-05-31', '2019-06-30', '2019-07-31', '2019-08-31',\n",
       "               '2019-09-30', '2019-10-31', '2019-11-30', '2019-12-31',\n",
       "               '2020-01-31', '2020-02-29', '2020-03-31', '2020-04-30'],\n",
       "              dtype='datetime64[ns]', freq='M')"
      ]
     },
     "execution_count": 11,
     "metadata": {},
     "output_type": "execute_result"
    }
   ],
   "source": [
    "# start date paramter doesn't require hyphens\n",
    "dates_test = pd.date_range('20190501', periods=12, freq='M')\n",
    "dates_test"
   ]
  },
  {
   "cell_type": "code",
   "execution_count": 12,
   "metadata": {},
   "outputs": [
    {
     "name": "stdout",
     "output_type": "stream",
     "text": [
      "DatetimeIndex(['2019-05-01', '2019-06-01', '2019-07-01', '2019-08-01',\n",
      "               '2019-09-01', '2019-10-01', '2019-11-01', '2019-12-01',\n",
      "               '2020-01-01', '2020-02-01', '2020-03-01', '2020-04-01'],\n",
      "              dtype='datetime64[ns]', freq='MS')\n"
     ]
    }
   ],
   "source": [
    "# MS as in month start freq\n",
    "dates2 = pd.date_range('20190501', periods=12, freq='MS')\n",
    "print(dates2)"
   ]
  },
  {
   "cell_type": "code",
   "execution_count": 13,
   "metadata": {},
   "outputs": [
    {
     "data": {
      "text/plain": [
       "DatetimeIndex(['2019-05-17 09:00:00', '2019-05-17 10:00:00',\n",
       "               '2019-05-17 11:00:00', '2019-05-17 12:00:00',\n",
       "               '2019-05-17 13:00:00', '2019-05-17 14:00:00',\n",
       "               '2019-05-17 15:00:00', '2019-05-17 16:00:00'],\n",
       "              dtype='datetime64[ns]', freq='H')"
      ]
     },
     "execution_count": 13,
     "metadata": {},
     "output_type": "execute_result"
    }
   ],
   "source": [
    "# can also set time: (in hours here)\n",
    "\n",
    "dates3 = pd.date_range('20190517 09:00:00', periods=8, freq='H')\n",
    "dates3"
   ]
  },
  {
   "cell_type": "code",
   "execution_count": 14,
   "metadata": {},
   "outputs": [
    {
     "name": "stdout",
     "output_type": "stream",
     "text": [
      "          A         B         C         D\n",
      "0  0.167796  0.532546  0.039801 -1.703596\n",
      "1 -0.752633 -0.674010 -1.613684  0.229568\n",
      "2 -1.401116 -1.817229  0.019446  0.340082\n",
      "3 -0.512681  0.447899  0.323204  1.100412\n",
      "4  2.664663  0.648563 -0.293664  0.940590\n",
      "5 -2.222771  1.089603 -0.115089 -0.969619\n",
      "6 -1.357984  0.476486  0.902178  1.065553\n",
      "7 -0.795634 -0.812855  1.298812 -0.027194\n",
      "8  0.569864  0.604282  2.365380  0.002124\n",
      "9  0.116326  0.850134  0.420978  1.307046\n"
     ]
    }
   ],
   "source": [
    "# Pandas Dataframe with dimension 10x4, 10 rows and 4 columns\n",
    "df = pd.DataFrame(np.random.randn(10,4),\n",
    "                 columns=list('ABCD'))\n",
    "print(df)"
   ]
  },
  {
   "cell_type": "code",
   "execution_count": 15,
   "metadata": {},
   "outputs": [
    {
     "data": {
      "text/html": [
       "<div>\n",
       "<style scoped>\n",
       "    .dataframe tbody tr th:only-of-type {\n",
       "        vertical-align: middle;\n",
       "    }\n",
       "\n",
       "    .dataframe tbody tr th {\n",
       "        vertical-align: top;\n",
       "    }\n",
       "\n",
       "    .dataframe thead th {\n",
       "        text-align: right;\n",
       "    }\n",
       "</style>\n",
       "<table border=\"1\" class=\"dataframe\">\n",
       "  <thead>\n",
       "    <tr style=\"text-align: right;\">\n",
       "      <th></th>\n",
       "      <th>A</th>\n",
       "      <th>B</th>\n",
       "      <th>C</th>\n",
       "      <th>D</th>\n",
       "    </tr>\n",
       "  </thead>\n",
       "  <tbody>\n",
       "    <tr>\n",
       "      <th>0</th>\n",
       "      <td>0.187497</td>\n",
       "      <td>1.122150</td>\n",
       "      <td>-0.988277</td>\n",
       "      <td>-1.985934</td>\n",
       "    </tr>\n",
       "    <tr>\n",
       "      <th>1</th>\n",
       "      <td>0.360803</td>\n",
       "      <td>-0.562243</td>\n",
       "      <td>-0.340693</td>\n",
       "      <td>-0.986988</td>\n",
       "    </tr>\n",
       "    <tr>\n",
       "      <th>2</th>\n",
       "      <td>-0.040627</td>\n",
       "      <td>0.067333</td>\n",
       "      <td>-0.452978</td>\n",
       "      <td>0.686223</td>\n",
       "    </tr>\n",
       "    <tr>\n",
       "      <th>3</th>\n",
       "      <td>-0.279572</td>\n",
       "      <td>-0.702492</td>\n",
       "      <td>0.252265</td>\n",
       "      <td>0.958977</td>\n",
       "    </tr>\n",
       "    <tr>\n",
       "      <th>4</th>\n",
       "      <td>0.537438</td>\n",
       "      <td>-1.737568</td>\n",
       "      <td>0.714727</td>\n",
       "      <td>-0.939288</td>\n",
       "    </tr>\n",
       "  </tbody>\n",
       "</table>\n",
       "</div>"
      ],
      "text/plain": [
       "          A         B         C         D\n",
       "0  0.187497  1.122150 -0.988277 -1.985934\n",
       "1  0.360803 -0.562243 -0.340693 -0.986988\n",
       "2 -0.040627  0.067333 -0.452978  0.686223\n",
       "3 -0.279572 -0.702492  0.252265  0.958977\n",
       "4  0.537438 -1.737568  0.714727 -0.939288"
      ]
     },
     "execution_count": 15,
     "metadata": {},
     "output_type": "execute_result"
    }
   ],
   "source": [
    "df = pd.read_csv('data.csv')\n",
    "df.head()"
   ]
  },
  {
   "cell_type": "code",
   "execution_count": 16,
   "metadata": {},
   "outputs": [
    {
     "data": {
      "text/html": [
       "<div>\n",
       "<style scoped>\n",
       "    .dataframe tbody tr th:only-of-type {\n",
       "        vertical-align: middle;\n",
       "    }\n",
       "\n",
       "    .dataframe tbody tr th {\n",
       "        vertical-align: top;\n",
       "    }\n",
       "\n",
       "    .dataframe thead th {\n",
       "        text-align: right;\n",
       "    }\n",
       "</style>\n",
       "<table border=\"1\" class=\"dataframe\">\n",
       "  <thead>\n",
       "    <tr style=\"text-align: right;\">\n",
       "      <th></th>\n",
       "      <th>A</th>\n",
       "      <th>B</th>\n",
       "      <th>C</th>\n",
       "      <th>D</th>\n",
       "    </tr>\n",
       "  </thead>\n",
       "  <tbody>\n",
       "    <tr>\n",
       "      <th>2019-05-25</th>\n",
       "      <td>0.187497</td>\n",
       "      <td>1.122150</td>\n",
       "      <td>-0.988277</td>\n",
       "      <td>-1.985934</td>\n",
       "    </tr>\n",
       "    <tr>\n",
       "      <th>2019-05-26</th>\n",
       "      <td>0.360803</td>\n",
       "      <td>-0.562243</td>\n",
       "      <td>-0.340693</td>\n",
       "      <td>-0.986988</td>\n",
       "    </tr>\n",
       "    <tr>\n",
       "      <th>2019-05-27</th>\n",
       "      <td>-0.040627</td>\n",
       "      <td>0.067333</td>\n",
       "      <td>-0.452978</td>\n",
       "      <td>0.686223</td>\n",
       "    </tr>\n",
       "    <tr>\n",
       "      <th>2019-05-28</th>\n",
       "      <td>-0.279572</td>\n",
       "      <td>-0.702492</td>\n",
       "      <td>0.252265</td>\n",
       "      <td>0.958977</td>\n",
       "    </tr>\n",
       "    <tr>\n",
       "      <th>2019-05-29</th>\n",
       "      <td>0.537438</td>\n",
       "      <td>-1.737568</td>\n",
       "      <td>0.714727</td>\n",
       "      <td>-0.939288</td>\n",
       "    </tr>\n",
       "    <tr>\n",
       "      <th>2019-05-30</th>\n",
       "      <td>0.070011</td>\n",
       "      <td>-0.516443</td>\n",
       "      <td>-1.655689</td>\n",
       "      <td>0.246721</td>\n",
       "    </tr>\n",
       "    <tr>\n",
       "      <th>2019-05-31</th>\n",
       "      <td>0.001268</td>\n",
       "      <td>0.951517</td>\n",
       "      <td>2.107360</td>\n",
       "      <td>-0.108726</td>\n",
       "    </tr>\n",
       "    <tr>\n",
       "      <th>2019-06-01</th>\n",
       "      <td>-0.185258</td>\n",
       "      <td>0.856520</td>\n",
       "      <td>-0.686285</td>\n",
       "      <td>1.104195</td>\n",
       "    </tr>\n",
       "    <tr>\n",
       "      <th>2019-06-02</th>\n",
       "      <td>0.387023</td>\n",
       "      <td>1.706336</td>\n",
       "      <td>-2.452653</td>\n",
       "      <td>0.260466</td>\n",
       "    </tr>\n",
       "    <tr>\n",
       "      <th>2019-06-03</th>\n",
       "      <td>-1.054974</td>\n",
       "      <td>0.556775</td>\n",
       "      <td>-0.945219</td>\n",
       "      <td>-0.030295</td>\n",
       "    </tr>\n",
       "  </tbody>\n",
       "</table>\n",
       "</div>"
      ],
      "text/plain": [
       "                   A         B         C         D\n",
       "2019-05-25  0.187497  1.122150 -0.988277 -1.985934\n",
       "2019-05-26  0.360803 -0.562243 -0.340693 -0.986988\n",
       "2019-05-27 -0.040627  0.067333 -0.452978  0.686223\n",
       "2019-05-28 -0.279572 -0.702492  0.252265  0.958977\n",
       "2019-05-29  0.537438 -1.737568  0.714727 -0.939288\n",
       "2019-05-30  0.070011 -0.516443 -1.655689  0.246721\n",
       "2019-05-31  0.001268  0.951517  2.107360 -0.108726\n",
       "2019-06-01 -0.185258  0.856520 -0.686285  1.104195\n",
       "2019-06-02  0.387023  1.706336 -2.452653  0.260466\n",
       "2019-06-03 -1.054974  0.556775 -0.945219 -0.030295"
      ]
     },
     "execution_count": 16,
     "metadata": {},
     "output_type": "execute_result"
    }
   ],
   "source": [
    "# Specifying the index in a df\n",
    "\n",
    "days = pd.date_range('20190525', periods=10)\n",
    "df.index = days\n",
    "df"
   ]
  },
  {
   "cell_type": "code",
   "execution_count": 17,
   "metadata": {},
   "outputs": [
    {
     "name": "stdout",
     "output_type": "stream",
     "text": [
      "DatetimeIndex(['2019-05-25', '2019-05-26', '2019-05-27', '2019-05-28',\n",
      "               '2019-05-29', '2019-05-30', '2019-05-31', '2019-06-01',\n",
      "               '2019-06-02', '2019-06-03'],\n",
      "              dtype='datetime64[ns]', freq='D')\n"
     ]
    }
   ],
   "source": [
    "print(df.index)"
   ]
  },
  {
   "cell_type": "code",
   "execution_count": 18,
   "metadata": {},
   "outputs": [
    {
     "name": "stdout",
     "output_type": "stream",
     "text": [
      "[[ 1.874970e-01  1.122150e+00 -9.882770e-01 -1.985934e+00]\n",
      " [ 3.608030e-01 -5.622430e-01 -3.406930e-01 -9.869880e-01]\n",
      " [-4.062700e-02  6.733300e-02 -4.529780e-01  6.862230e-01]\n",
      " [-2.795720e-01 -7.024920e-01  2.522650e-01  9.589770e-01]\n",
      " [ 5.374380e-01 -1.737568e+00  7.147270e-01 -9.392880e-01]\n",
      " [ 7.001100e-02 -5.164430e-01 -1.655689e+00  2.467210e-01]\n",
      " [ 1.268000e-03  9.515170e-01  2.107360e+00 -1.087260e-01]\n",
      " [-1.852580e-01  8.565200e-01 -6.862850e-01  1.104195e+00]\n",
      " [ 3.870230e-01  1.706336e+00 -2.452653e+00  2.604660e-01]\n",
      " [-1.054974e+00  5.567750e-01 -9.452190e-01 -3.029500e-02]]\n"
     ]
    }
   ],
   "source": [
    "print(df.values)"
   ]
  },
  {
   "cell_type": "code",
   "execution_count": 19,
   "metadata": {},
   "outputs": [
    {
     "name": "stdout",
     "output_type": "stream",
     "text": [
      "               A          B          C          D\n",
      "count  10.000000  10.000000  10.000000  10.000000\n",
      "mean   -0.001639   0.174188  -0.444744  -0.079465\n",
      "std     0.451656   1.049677   1.267397   0.971164\n",
      "min    -1.054974  -1.737568  -2.452653  -1.985934\n",
      "25%    -0.149100  -0.550793  -0.977513  -0.731648\n",
      "50%     0.035640   0.312054  -0.569632   0.108213\n",
      "75%     0.317476   0.927768   0.104025   0.579784\n",
      "max     0.537438   1.706336   2.107360   1.104195\n",
      "A   -0.001639\n",
      "B    0.174188\n",
      "C   -0.444744\n",
      "D   -0.079465\n",
      "dtype: float64\n",
      "2019-05-25   -0.416141\n",
      "2019-05-26   -0.382280\n",
      "2019-05-27    0.064988\n",
      "2019-05-28    0.057294\n",
      "2019-05-29   -0.356173\n",
      "2019-05-30   -0.463850\n",
      "2019-05-31    0.737855\n",
      "2019-06-01    0.272293\n",
      "2019-06-02   -0.024707\n",
      "2019-06-03   -0.368428\n",
      "Freq: D, dtype: float64\n"
     ]
    }
   ],
   "source": [
    "# Get descriptive statistics\n",
    "print(df.describe())\n",
    "print(df.mean(0)) # columns\n",
    "print(df.mean(1)) # rows\n"
   ]
  },
  {
   "cell_type": "markdown",
   "metadata": {},
   "source": [
    "### Extracting from dataframes:\n",
    ".head(), .tail(), .iloc(), .loc()"
   ]
  },
  {
   "cell_type": "code",
   "execution_count": 20,
   "metadata": {},
   "outputs": [
    {
     "name": "stdout",
     "output_type": "stream",
     "text": [
      "                   A         B         C         D\n",
      "2019-05-25  0.187497  1.122150 -0.988277 -1.985934\n",
      "2019-05-26  0.360803 -0.562243 -0.340693 -0.986988\n",
      "2019-05-27 -0.040627  0.067333 -0.452978  0.686223\n",
      "2019-05-28 -0.279572 -0.702492  0.252265  0.958977\n",
      "2019-05-29  0.537438 -1.737568  0.714727 -0.939288\n"
     ]
    }
   ],
   "source": [
    "print(df.head())"
   ]
  },
  {
   "cell_type": "code",
   "execution_count": 21,
   "metadata": {},
   "outputs": [
    {
     "name": "stdout",
     "output_type": "stream",
     "text": [
      "                   A         B         C         D\n",
      "2019-05-30  0.070011 -0.516443 -1.655689  0.246721\n",
      "2019-05-31  0.001268  0.951517  2.107360 -0.108726\n",
      "2019-06-01 -0.185258  0.856520 -0.686285  1.104195\n",
      "2019-06-02  0.387023  1.706336 -2.452653  0.260466\n",
      "2019-06-03 -1.054974  0.556775 -0.945219 -0.030295\n"
     ]
    }
   ],
   "source": [
    "print(df.tail())"
   ]
  },
  {
   "cell_type": "code",
   "execution_count": 22,
   "metadata": {},
   "outputs": [
    {
     "name": "stdout",
     "output_type": "stream",
     "text": [
      "2019-05-25    0.187497\n",
      "2019-05-26    0.360803\n",
      "2019-05-27   -0.040627\n",
      "2019-05-28   -0.279572\n",
      "2019-05-29    0.537438\n",
      "2019-05-30    0.070011\n",
      "2019-05-31    0.001268\n",
      "2019-06-01   -0.185258\n",
      "2019-06-02    0.387023\n",
      "2019-06-03   -1.054974\n",
      "Freq: D, Name: A, dtype: float64\n",
      "2019-05-25    0.187497\n",
      "2019-05-26    0.360803\n",
      "2019-05-27   -0.040627\n",
      "2019-05-28   -0.279572\n",
      "2019-05-29    0.537438\n",
      "2019-05-30    0.070011\n",
      "2019-05-31    0.001268\n",
      "2019-06-01   -0.185258\n",
      "2019-06-02    0.387023\n",
      "2019-06-03   -1.054974\n",
      "Freq: D, Name: A, dtype: float64\n"
     ]
    }
   ],
   "source": [
    "# selecting a specific column. returns a series\n",
    "print(df['A'])\n",
    "print(df.A)"
   ]
  },
  {
   "cell_type": "code",
   "execution_count": 23,
   "metadata": {},
   "outputs": [
    {
     "name": "stdout",
     "output_type": "stream",
     "text": [
      "                   A         B\n",
      "2019-05-25  0.187497  1.122150\n",
      "2019-05-26  0.360803 -0.562243\n",
      "2019-05-27 -0.040627  0.067333\n",
      "2019-05-28 -0.279572 -0.702492\n",
      "2019-05-29  0.537438 -1.737568\n",
      "2019-05-30  0.070011 -0.516443\n",
      "2019-05-31  0.001268  0.951517\n",
      "2019-06-01 -0.185258  0.856520\n",
      "2019-06-02  0.387023  1.706336\n",
      "2019-06-03 -1.054974  0.556775\n"
     ]
    }
   ],
   "source": [
    "# Double brackets because passing in a LIST of column labels. Instead of a list, you get a dataframe.\n",
    "\n",
    "print(df[['A','B']])"
   ]
  },
  {
   "cell_type": "code",
   "execution_count": 24,
   "metadata": {},
   "outputs": [
    {
     "name": "stdout",
     "output_type": "stream",
     "text": [
      "                   A         B         C         D\n",
      "2019-05-27 -0.040627  0.067333 -0.452978  0.686223\n",
      "2019-05-28 -0.279572 -0.702492  0.252265  0.958977\n",
      "                   A         B         C         D\n",
      "2019-05-27 -0.040627  0.067333 -0.452978  0.686223\n",
      "2019-05-28 -0.279572 -0.702492  0.252265  0.958977\n",
      "                   A         B         C         D\n",
      "2019-05-27 -0.040627  0.067333 -0.452978  0.686223\n",
      "2019-05-29  0.537438 -1.737568  0.714727 -0.939288\n",
      "A   -0.040627\n",
      "B    0.067333\n",
      "C   -0.452978\n",
      "D    0.686223\n",
      "Name: 2019-05-27 00:00:00, dtype: float64\n"
     ]
    }
   ],
   "source": [
    "# Slicing based on row number. this extracts row number 2 thru 4 (not inclusive)\n",
    "print(df[2:4])\n",
    "print(df.iloc[2:4])\n",
    "# return only rows 2 and 4:\n",
    "print(df.iloc[[2,4]])\n",
    "# print row 2:\n",
    "print(df.iloc[2])"
   ]
  },
  {
   "cell_type": "code",
   "execution_count": 25,
   "metadata": {},
   "outputs": [
    {
     "name": "stdout",
     "output_type": "stream",
     "text": [
      "                   B         C         D\n",
      "2019-05-27  0.067333 -0.452978  0.686223\n",
      "2019-05-28 -0.702492  0.252265  0.958977\n"
     ]
    }
   ],
   "source": [
    "# Slicing based on row and column numbers\n",
    "\n",
    "print(df.iloc[2:4, 1:4])"
   ]
  },
  {
   "cell_type": "code",
   "execution_count": 26,
   "metadata": {},
   "outputs": [
    {
     "name": "stdout",
     "output_type": "stream",
     "text": [
      "                   B         D\n",
      "2019-05-27  0.067333  0.686223\n",
      "2019-05-29 -1.737568 -0.939288\n"
     ]
    }
   ],
   "source": [
    "# Specific rows and columns:\n",
    "print(df.iloc[[2,4], [1,3]])"
   ]
  },
  {
   "cell_type": "code",
   "execution_count": 27,
   "metadata": {},
   "outputs": [
    {
     "name": "stdout",
     "output_type": "stream",
     "text": [
      "                   A         B         C         D\n",
      "2019-06-01 -0.185258  0.856520 -0.686285  1.104195\n",
      "2019-06-02  0.387023  1.706336 -2.452653  0.260466\n",
      "2019-06-03 -1.054974  0.556775 -0.945219 -0.030295\n"
     ]
    }
   ],
   "source": [
    "# Slicing based on labels\n",
    "\n",
    "print(df['20190601':'20190603'])"
   ]
  },
  {
   "cell_type": "code",
   "execution_count": 28,
   "metadata": {},
   "outputs": [
    {
     "name": "stdout",
     "output_type": "stream",
     "text": [
      "                   A         B         C         D\n",
      "2019-06-01 -0.185258  0.856520 -0.686285  1.104195\n",
      "2019-06-02  0.387023  1.706336 -2.452653  0.260466\n",
      "2019-06-03 -1.054974  0.556775 -0.945219 -0.030295\n"
     ]
    }
   ],
   "source": [
    "print(df.loc['20190601':'20190603'])"
   ]
  },
  {
   "cell_type": "code",
   "execution_count": 29,
   "metadata": {},
   "outputs": [
    {
     "name": "stdout",
     "output_type": "stream",
     "text": [
      "                   A         B         C\n",
      "2019-06-01 -0.185258  0.856520 -0.686285\n",
      "2019-06-02  0.387023  1.706336 -2.452653\n",
      "2019-06-03 -1.054974  0.556775 -0.945219\n"
     ]
    }
   ],
   "source": [
    "print(df.loc['20190601':'20190603', 'A':'C'])"
   ]
  },
  {
   "cell_type": "code",
   "execution_count": 30,
   "metadata": {},
   "outputs": [
    {
     "name": "stdout",
     "output_type": "stream",
     "text": [
      "                   A         C\n",
      "2019-06-01 -0.185258 -0.686285\n",
      "2019-06-02  0.387023 -2.452653\n",
      "2019-06-03 -1.054974 -0.945219\n"
     ]
    }
   ],
   "source": [
    "print(df.loc['20190601':'20190603', ['A', 'C']])"
   ]
  },
  {
   "cell_type": "code",
   "execution_count": 31,
   "metadata": {},
   "outputs": [
    {
     "name": "stdout",
     "output_type": "stream",
     "text": [
      "                   A         B         C         D\n",
      "2019-06-01 -0.185258  0.856520 -0.686285  1.104195\n",
      "2019-06-03 -1.054974  0.556775 -0.945219 -0.030295\n"
     ]
    }
   ],
   "source": [
    "# convert date into datetime format\n",
    "\n",
    "date1 = datetime(2019, 6, 1, 0, 0, 0)\n",
    "date2 = datetime(2019, 6, 3, 0, 0, 0)\n",
    "\n",
    "print(df.loc[[date1, date2]])"
   ]
  },
  {
   "cell_type": "code",
   "execution_count": 32,
   "metadata": {},
   "outputs": [
    {
     "name": "stdout",
     "output_type": "stream",
     "text": [
      "A   -0.185258\n",
      "C   -0.686285\n",
      "Name: 2019-06-01 00:00:00, dtype: float64\n"
     ]
    }
   ],
   "source": [
    "# specific row and column:\n",
    "\n",
    "print(df.loc[date1, ['A','C']])"
   ]
  },
  {
   "cell_type": "markdown",
   "metadata": {},
   "source": [
    "To summarize, if you want to extract a range of rows using their labels, you can simply using the following syntax: `df[start_label:end_label]`. If you want to extract specific rows or columns, use the loc indexer with the following syntax: `df.loc[[row_1_label, row_2_label,...row_n_label],[column_1_label, column_2_label,...column_n_label]]`."
   ]
  },
  {
   "cell_type": "code",
   "execution_count": 37,
   "metadata": {},
   "outputs": [
    {
     "name": "stdout",
     "output_type": "stream",
     "text": [
      "0.556775\n"
     ]
    }
   ],
   "source": [
    "# selecting a single cell in a df with .at() function\n",
    "\n",
    "d = datetime(2019, 6, 3, 0, 0, 0)\n",
    "print(df.at[d,'B'])"
   ]
  },
  {
   "cell_type": "code",
   "execution_count": 38,
   "metadata": {},
   "outputs": [
    {
     "data": {
      "text/html": [
       "<div>\n",
       "<style scoped>\n",
       "    .dataframe tbody tr th:only-of-type {\n",
       "        vertical-align: middle;\n",
       "    }\n",
       "\n",
       "    .dataframe tbody tr th {\n",
       "        vertical-align: top;\n",
       "    }\n",
       "\n",
       "    .dataframe thead th {\n",
       "        text-align: right;\n",
       "    }\n",
       "</style>\n",
       "<table border=\"1\" class=\"dataframe\">\n",
       "  <thead>\n",
       "    <tr style=\"text-align: right;\">\n",
       "      <th></th>\n",
       "      <th>A</th>\n",
       "      <th>B</th>\n",
       "      <th>C</th>\n",
       "      <th>D</th>\n",
       "    </tr>\n",
       "  </thead>\n",
       "  <tbody>\n",
       "    <tr>\n",
       "      <th>2019-05-25</th>\n",
       "      <td>0.187497</td>\n",
       "      <td>1.122150</td>\n",
       "      <td>-0.988277</td>\n",
       "      <td>-1.985934</td>\n",
       "    </tr>\n",
       "    <tr>\n",
       "      <th>2019-05-26</th>\n",
       "      <td>0.360803</td>\n",
       "      <td>-0.562243</td>\n",
       "      <td>-0.340693</td>\n",
       "      <td>-0.986988</td>\n",
       "    </tr>\n",
       "    <tr>\n",
       "      <th>2019-05-27</th>\n",
       "      <td>-0.040627</td>\n",
       "      <td>0.067333</td>\n",
       "      <td>-0.452978</td>\n",
       "      <td>0.686223</td>\n",
       "    </tr>\n",
       "    <tr>\n",
       "      <th>2019-05-28</th>\n",
       "      <td>-0.279572</td>\n",
       "      <td>-0.702492</td>\n",
       "      <td>0.252265</td>\n",
       "      <td>0.958977</td>\n",
       "    </tr>\n",
       "    <tr>\n",
       "      <th>2019-05-29</th>\n",
       "      <td>0.537438</td>\n",
       "      <td>-1.737568</td>\n",
       "      <td>0.714727</td>\n",
       "      <td>-0.939288</td>\n",
       "    </tr>\n",
       "    <tr>\n",
       "      <th>2019-05-30</th>\n",
       "      <td>0.070011</td>\n",
       "      <td>-0.516443</td>\n",
       "      <td>-1.655689</td>\n",
       "      <td>0.246721</td>\n",
       "    </tr>\n",
       "    <tr>\n",
       "      <th>2019-05-31</th>\n",
       "      <td>0.001268</td>\n",
       "      <td>0.951517</td>\n",
       "      <td>2.107360</td>\n",
       "      <td>-0.108726</td>\n",
       "    </tr>\n",
       "    <tr>\n",
       "      <th>2019-06-01</th>\n",
       "      <td>-0.185258</td>\n",
       "      <td>0.856520</td>\n",
       "      <td>-0.686285</td>\n",
       "      <td>1.104195</td>\n",
       "    </tr>\n",
       "    <tr>\n",
       "      <th>2019-06-02</th>\n",
       "      <td>0.387023</td>\n",
       "      <td>1.706336</td>\n",
       "      <td>-2.452653</td>\n",
       "      <td>0.260466</td>\n",
       "    </tr>\n",
       "    <tr>\n",
       "      <th>2019-06-03</th>\n",
       "      <td>-1.054974</td>\n",
       "      <td>0.556775</td>\n",
       "      <td>-0.945219</td>\n",
       "      <td>-0.030295</td>\n",
       "    </tr>\n",
       "  </tbody>\n",
       "</table>\n",
       "</div>"
      ],
      "text/plain": [
       "                   A         B         C         D\n",
       "2019-05-25  0.187497  1.122150 -0.988277 -1.985934\n",
       "2019-05-26  0.360803 -0.562243 -0.340693 -0.986988\n",
       "2019-05-27 -0.040627  0.067333 -0.452978  0.686223\n",
       "2019-05-28 -0.279572 -0.702492  0.252265  0.958977\n",
       "2019-05-29  0.537438 -1.737568  0.714727 -0.939288\n",
       "2019-05-30  0.070011 -0.516443 -1.655689  0.246721\n",
       "2019-05-31  0.001268  0.951517  2.107360 -0.108726\n",
       "2019-06-01 -0.185258  0.856520 -0.686285  1.104195\n",
       "2019-06-02  0.387023  1.706336 -2.452653  0.260466\n",
       "2019-06-03 -1.054974  0.556775 -0.945219 -0.030295"
      ]
     },
     "execution_count": 38,
     "metadata": {},
     "output_type": "execute_result"
    }
   ],
   "source": [
    "df"
   ]
  },
  {
   "cell_type": "code",
   "execution_count": 40,
   "metadata": {},
   "outputs": [
    {
     "name": "stdout",
     "output_type": "stream",
     "text": [
      "                   A         B         C         D\n",
      "2019-05-25  0.187497  1.122150 -0.988277 -1.985934\n",
      "2019-05-31  0.001268  0.951517  2.107360 -0.108726\n",
      "2019-06-02  0.387023  1.706336 -2.452653  0.260466\n"
     ]
    }
   ],
   "source": [
    "# Selecting based on cell value. Boolean indexing\n",
    "\n",
    "print(df[(df['A']>0) & (df['B']>0)])"
   ]
  },
  {
   "cell_type": "code",
   "execution_count": 46,
   "metadata": {},
   "outputs": [
    {
     "name": "stdout",
     "output_type": "stream",
     "text": [
      "   2019-05-25  2019-05-26  2019-05-27  2019-05-28  2019-05-29  2019-05-30  \\\n",
      "A    0.187497    0.360803   -0.040627   -0.279572    0.537438    0.070011   \n",
      "B    1.122150   -0.562243    0.067333   -0.702492   -1.737568   -0.516443   \n",
      "C   -0.988277   -0.340693   -0.452978    0.252265    0.714727   -1.655689   \n",
      "D   -1.985934   -0.986988    0.686223    0.958977   -0.939288    0.246721   \n",
      "\n",
      "   2019-05-31  2019-06-01  2019-06-02  2019-06-03  \n",
      "A    0.001268   -0.185258    0.387023   -1.054974  \n",
      "B    0.951517    0.856520    1.706336    0.556775  \n",
      "C    2.107360   -0.686285   -2.452653   -0.945219  \n",
      "D   -0.108726    1.104195    0.260466   -0.030295  \n",
      "   2019-05-25  2019-05-26  2019-05-27  2019-05-28  2019-05-29  2019-05-30  \\\n",
      "A    0.187497    0.360803   -0.040627   -0.279572    0.537438    0.070011   \n",
      "B    1.122150   -0.562243    0.067333   -0.702492   -1.737568   -0.516443   \n",
      "C   -0.988277   -0.340693   -0.452978    0.252265    0.714727   -1.655689   \n",
      "D   -1.985934   -0.986988    0.686223    0.958977   -0.939288    0.246721   \n",
      "\n",
      "   2019-05-31  2019-06-01  2019-06-02  2019-06-03  \n",
      "A    0.001268   -0.185258    0.387023   -1.054974  \n",
      "B    0.951517    0.856520    1.706336    0.556775  \n",
      "C    2.107360   -0.686285   -2.452653   -0.945219  \n",
      "D   -0.108726    1.104195    0.260466   -0.030295  \n",
      "                   A         B         C         D\n",
      "2019-05-25  0.187497  1.122150 -0.988277 -1.985934\n",
      "2019-05-26  0.360803 -0.562243 -0.340693 -0.986988\n",
      "2019-05-27 -0.040627  0.067333 -0.452978  0.686223\n",
      "2019-05-28 -0.279572 -0.702492  0.252265  0.958977\n",
      "2019-05-29  0.537438 -1.737568  0.714727 -0.939288\n",
      "2019-05-30  0.070011 -0.516443 -1.655689  0.246721\n",
      "2019-05-31  0.001268  0.951517  2.107360 -0.108726\n",
      "2019-06-01 -0.185258  0.856520 -0.686285  1.104195\n",
      "2019-06-02  0.387023  1.706336 -2.452653  0.260466\n",
      "2019-06-03 -1.054974  0.556775 -0.945219 -0.030295\n"
     ]
    }
   ],
   "source": [
    "# transforming dfs: reflect df over its main diagonal (converting columns to rows and rows to columns)\n",
    "\n",
    "print(df.transpose())\n",
    "\n",
    "print(df.T) # alternative\n",
    "\n",
    "print(df)"
   ]
  },
  {
   "cell_type": "code",
   "execution_count": 47,
   "metadata": {},
   "outputs": [],
   "source": [
    "# checking to see if a result is a dataframe or series:\n",
    "\n",
    "def checkSeriesOrDataframe(var):\n",
    "    if isintance(var, pd.DataFrame):\n",
    "        return 'Dataframe'\n",
    "    if isintance(var, pd.Series):\n",
    "        return 'Series'"
   ]
  },
  {
   "cell_type": "code",
   "execution_count": 51,
   "metadata": {},
   "outputs": [
    {
     "name": "stdout",
     "output_type": "stream",
     "text": [
      "                   A         B         C         D\n",
      "2019-06-03 -1.054974  0.556775 -0.945219 -0.030295\n",
      "2019-06-02  0.387023  1.706336 -2.452653  0.260466\n",
      "2019-06-01 -0.185258  0.856520 -0.686285  1.104195\n",
      "2019-05-31  0.001268  0.951517  2.107360 -0.108726\n",
      "2019-05-30  0.070011 -0.516443 -1.655689  0.246721\n",
      "2019-05-29  0.537438 -1.737568  0.714727 -0.939288\n",
      "2019-05-28 -0.279572 -0.702492  0.252265  0.958977\n",
      "2019-05-27 -0.040627  0.067333 -0.452978  0.686223\n",
      "2019-05-26  0.360803 -0.562243 -0.340693 -0.986988\n",
      "2019-05-25  0.187497  1.122150 -0.988277 -1.985934\n",
      "                   D         C         B         A\n",
      "2019-05-25 -1.985934 -0.988277  1.122150  0.187497\n",
      "2019-05-26 -0.986988 -0.340693 -0.562243  0.360803\n",
      "2019-05-27  0.686223 -0.452978  0.067333 -0.040627\n",
      "2019-05-28  0.958977  0.252265 -0.702492 -0.279572\n",
      "2019-05-29 -0.939288  0.714727 -1.737568  0.537438\n",
      "2019-05-30  0.246721 -1.655689 -0.516443  0.070011\n",
      "2019-05-31 -0.108726  2.107360  0.951517  0.001268\n",
      "2019-06-01  1.104195 -0.686285  0.856520 -0.185258\n",
      "2019-06-02  0.260466 -2.452653  1.706336  0.387023\n",
      "2019-06-03 -0.030295 -0.945219  0.556775 -1.054974\n"
     ]
    }
   ],
   "source": [
    "# Sorting data in a dataframe with 2 ways; sort by labels (axis) using sort_index() function and sort by value using\n",
    "# sort_values() function\n",
    "\n",
    "print(df.sort_index(axis=0, ascending=False)) # axis=0 means sort by index\n",
    "print(df.sort_index(axis=1, ascending=False)) # axis=1 means sort by col labels (descending order)"
   ]
  },
  {
   "cell_type": "code",
   "execution_count": 54,
   "metadata": {},
   "outputs": [
    {
     "name": "stdout",
     "output_type": "stream",
     "text": [
      "                   A         B         C         D\n",
      "2019-06-03 -1.054974  0.556775 -0.945219 -0.030295\n",
      "2019-05-28 -0.279572 -0.702492  0.252265  0.958977\n",
      "2019-06-01 -0.185258  0.856520 -0.686285  1.104195\n",
      "2019-05-27 -0.040627  0.067333 -0.452978  0.686223\n",
      "2019-05-31  0.001268  0.951517  2.107360 -0.108726\n",
      "2019-05-30  0.070011 -0.516443 -1.655689  0.246721\n",
      "2019-05-25  0.187497  1.122150 -0.988277 -1.985934\n",
      "2019-05-26  0.360803 -0.562243 -0.340693 -0.986988\n",
      "2019-06-02  0.387023  1.706336 -2.452653  0.260466\n",
      "2019-05-29  0.537438 -1.737568  0.714727 -0.939288\n",
      "                   C         A         B         D\n",
      "2019-05-25 -0.988277  0.187497  1.122150 -1.985934\n",
      "2019-05-26 -0.340693  0.360803 -0.562243 -0.986988\n",
      "2019-05-27 -0.452978 -0.040627  0.067333  0.686223\n",
      "2019-05-28  0.252265 -0.279572 -0.702492  0.958977\n",
      "2019-05-29  0.714727  0.537438 -1.737568 -0.939288\n",
      "2019-05-30 -1.655689  0.070011 -0.516443  0.246721\n",
      "2019-05-31  2.107360  0.001268  0.951517 -0.108726\n",
      "2019-06-01 -0.686285 -0.185258  0.856520  1.104195\n",
      "2019-06-02 -2.452653  0.387023  1.706336  0.260466\n",
      "2019-06-03 -0.945219 -1.054974  0.556775 -0.030295\n"
     ]
    }
   ],
   "source": [
    "# Sorting by value\n",
    "\n",
    "print(df.sort_values('A', axis=0)) #sorts all values of a from least to greatest (ascending order)\n",
    "print(df.sort_values('20190601', axis=1)) #sorts values by column from least to greatest\n"
   ]
  },
  {
   "cell_type": "code",
   "execution_count": 61,
   "metadata": {},
   "outputs": [],
   "source": [
    "# applying functions to a df with .apply function\n",
    "\n",
    "sq_root = lambda x: math.sqrt(x) if x>0 else x\n",
    "sq = lambda x: x**2"
   ]
  },
  {
   "cell_type": "code",
   "execution_count": 62,
   "metadata": {},
   "outputs": [
    {
     "name": "stdout",
     "output_type": "stream",
     "text": [
      "2019-05-25    1.059316\n",
      "2019-05-26   -0.562243\n",
      "2019-05-27    0.259486\n",
      "2019-05-28   -0.702492\n",
      "2019-05-29   -1.737568\n",
      "2019-05-30   -0.516443\n",
      "2019-05-31    0.975457\n",
      "2019-06-01    0.925484\n",
      "2019-06-02    1.306268\n",
      "2019-06-03    0.746174\n",
      "Freq: D, Name: B, dtype: float64\n"
     ]
    }
   ],
   "source": [
    "print(df['B'].apply(sq_root))"
   ]
  },
  {
   "cell_type": "code",
   "execution_count": 63,
   "metadata": {},
   "outputs": [
    {
     "name": "stdout",
     "output_type": "stream",
     "text": [
      "2019-05-25    1.259221\n",
      "2019-05-26    0.316117\n",
      "2019-05-27    0.004534\n",
      "2019-05-28    0.493495\n",
      "2019-05-29    3.019143\n",
      "2019-05-30    0.266713\n",
      "2019-05-31    0.905385\n",
      "2019-06-01    0.733627\n",
      "2019-06-02    2.911583\n",
      "2019-06-03    0.309998\n",
      "Freq: D, Name: B, dtype: float64\n"
     ]
    }
   ],
   "source": [
    "print(df.B.apply(sq))"
   ]
  },
  {
   "cell_type": "code",
   "execution_count": 66,
   "metadata": {},
   "outputs": [
    {
     "data": {
      "text/html": [
       "<div>\n",
       "<style scoped>\n",
       "    .dataframe tbody tr th:only-of-type {\n",
       "        vertical-align: middle;\n",
       "    }\n",
       "\n",
       "    .dataframe tbody tr th {\n",
       "        vertical-align: top;\n",
       "    }\n",
       "\n",
       "    .dataframe thead th {\n",
       "        text-align: right;\n",
       "    }\n",
       "</style>\n",
       "<table border=\"1\" class=\"dataframe\">\n",
       "  <thead>\n",
       "    <tr style=\"text-align: right;\">\n",
       "      <th></th>\n",
       "      <th>A</th>\n",
       "      <th>B</th>\n",
       "      <th>C</th>\n",
       "      <th>D</th>\n",
       "    </tr>\n",
       "  </thead>\n",
       "  <tbody>\n",
       "    <tr>\n",
       "      <th>2019-05-25</th>\n",
       "      <td>0.035155</td>\n",
       "      <td>1.259221</td>\n",
       "      <td>0.976691</td>\n",
       "      <td>3.943934</td>\n",
       "    </tr>\n",
       "    <tr>\n",
       "      <th>2019-05-26</th>\n",
       "      <td>0.130179</td>\n",
       "      <td>0.316117</td>\n",
       "      <td>0.116072</td>\n",
       "      <td>0.974145</td>\n",
       "    </tr>\n",
       "    <tr>\n",
       "      <th>2019-05-27</th>\n",
       "      <td>0.001651</td>\n",
       "      <td>0.004534</td>\n",
       "      <td>0.205189</td>\n",
       "      <td>0.470902</td>\n",
       "    </tr>\n",
       "    <tr>\n",
       "      <th>2019-05-28</th>\n",
       "      <td>0.078161</td>\n",
       "      <td>0.493495</td>\n",
       "      <td>0.063638</td>\n",
       "      <td>0.919637</td>\n",
       "    </tr>\n",
       "    <tr>\n",
       "      <th>2019-05-29</th>\n",
       "      <td>0.288840</td>\n",
       "      <td>3.019143</td>\n",
       "      <td>0.510835</td>\n",
       "      <td>0.882262</td>\n",
       "    </tr>\n",
       "    <tr>\n",
       "      <th>2019-05-30</th>\n",
       "      <td>0.004902</td>\n",
       "      <td>0.266713</td>\n",
       "      <td>2.741306</td>\n",
       "      <td>0.060871</td>\n",
       "    </tr>\n",
       "    <tr>\n",
       "      <th>2019-05-31</th>\n",
       "      <td>0.000002</td>\n",
       "      <td>0.905385</td>\n",
       "      <td>4.440966</td>\n",
       "      <td>0.011821</td>\n",
       "    </tr>\n",
       "    <tr>\n",
       "      <th>2019-06-01</th>\n",
       "      <td>0.034321</td>\n",
       "      <td>0.733627</td>\n",
       "      <td>0.470987</td>\n",
       "      <td>1.219247</td>\n",
       "    </tr>\n",
       "    <tr>\n",
       "      <th>2019-06-02</th>\n",
       "      <td>0.149787</td>\n",
       "      <td>2.911583</td>\n",
       "      <td>6.015507</td>\n",
       "      <td>0.067843</td>\n",
       "    </tr>\n",
       "    <tr>\n",
       "      <th>2019-06-03</th>\n",
       "      <td>1.112970</td>\n",
       "      <td>0.309998</td>\n",
       "      <td>0.893439</td>\n",
       "      <td>0.000918</td>\n",
       "    </tr>\n",
       "  </tbody>\n",
       "</table>\n",
       "</div>"
      ],
      "text/plain": [
       "                   A         B         C         D\n",
       "2019-05-25  0.035155  1.259221  0.976691  3.943934\n",
       "2019-05-26  0.130179  0.316117  0.116072  0.974145\n",
       "2019-05-27  0.001651  0.004534  0.205189  0.470902\n",
       "2019-05-28  0.078161  0.493495  0.063638  0.919637\n",
       "2019-05-29  0.288840  3.019143  0.510835  0.882262\n",
       "2019-05-30  0.004902  0.266713  2.741306  0.060871\n",
       "2019-05-31  0.000002  0.905385  4.440966  0.011821\n",
       "2019-06-01  0.034321  0.733627  0.470987  1.219247\n",
       "2019-06-02  0.149787  2.911583  6.015507  0.067843\n",
       "2019-06-03  1.112970  0.309998  0.893439  0.000918"
      ]
     },
     "execution_count": 66,
     "metadata": {},
     "output_type": "execute_result"
    }
   ],
   "source": [
    "# df.apply(sq_root) results in error\n",
    "df.apply(sq) # can apply dataframe through sq function though"
   ]
  },
  {
   "cell_type": "code",
   "execution_count": 67,
   "metadata": {},
   "outputs": [
    {
     "name": "stdout",
     "output_type": "stream",
     "text": [
      "                   A         B         C         D\n",
      "2019-05-25  0.433009  1.059316 -0.988277 -1.985934\n",
      "2019-05-26  0.600669 -0.562243 -0.340693 -0.986988\n",
      "2019-05-27 -0.040627  0.259486 -0.452978  0.828386\n",
      "2019-05-28 -0.279572 -0.702492  0.502260  0.979274\n",
      "2019-05-29  0.733102 -1.737568  0.845415 -0.939288\n",
      "2019-05-30  0.264596 -0.516443 -1.655689  0.496710\n",
      "2019-05-31  0.035609  0.975457  1.451675 -0.108726\n",
      "2019-06-01 -0.185258  0.925484 -0.686285  1.050807\n",
      "2019-06-02  0.622112  1.306268 -2.452653  0.510359\n",
      "2019-06-03 -1.054974  0.746174 -0.945219 -0.030295\n"
     ]
    }
   ],
   "source": [
    "for column in df:\n",
    "    df[column] = df[column].apply(sq_root)\n",
    "print(df)"
   ]
  },
  {
   "cell_type": "code",
   "execution_count": 68,
   "metadata": {},
   "outputs": [
    {
     "name": "stdout",
     "output_type": "stream",
     "text": [
      "A    1.128665\n",
      "B    1.753438\n",
      "C   -4.722444\n",
      "D   -0.185696\n",
      "dtype: float64\n"
     ]
    }
   ],
   "source": [
    "# the apply function can be applied to eeither axis: index(0; apply function to each column) or column(1; apply function \n",
    "# to each row).\n",
    "\n",
    "print(df.apply(np.sum, axis=0))"
   ]
  },
  {
   "cell_type": "code",
   "execution_count": 69,
   "metadata": {},
   "outputs": [
    {
     "name": "stdout",
     "output_type": "stream",
     "text": [
      "2019-05-25   -1.481886\n",
      "2019-05-26   -1.289255\n",
      "2019-05-27    0.594267\n",
      "2019-05-28    0.499470\n",
      "2019-05-29   -1.098339\n",
      "2019-05-30   -1.410826\n",
      "2019-05-31    2.354015\n",
      "2019-06-01    1.104747\n",
      "2019-06-02   -0.013915\n",
      "2019-06-03   -1.284314\n",
      "Freq: D, dtype: float64\n"
     ]
    }
   ],
   "source": [
    "print(df.apply(np.sum, axis=1))"
   ]
  },
  {
   "cell_type": "code",
   "execution_count": 70,
   "metadata": {},
   "outputs": [
    {
     "name": "stdout",
     "output_type": "stream",
     "text": [
      "              name  year  reports\n",
      "Singapore    Janet  2012        6\n",
      "China          Nad  2012       13\n",
      "Japan      Timothy  2013       14\n",
      "Sweden        June  2014        1\n",
      "Norway         Amy  2014        7\n"
     ]
    }
   ],
   "source": [
    "#adding and removing cols in a df\n",
    "\n",
    "data = {'name': ['Janet', 'Nad', 'Timothy', 'June', 'Amy'],\n",
    "       'year': [2012, 2012, 2013, 2014, 2014],\n",
    "       'reports': [6,13,14,1,7]}\n",
    "df = pd.DataFrame(data, index=\n",
    "                 ['Singapore', 'China', 'Japan', 'Sweden', 'Norway'])\n",
    "print(df)"
   ]
  },
  {
   "cell_type": "code",
   "execution_count": 72,
   "metadata": {},
   "outputs": [
    {
     "name": "stdout",
     "output_type": "stream",
     "text": [
      "              name  year  reports     school\n",
      "Singapore    Janet  2012        6  Cambridge\n",
      "China          Nad  2012       13     Oxford\n",
      "Japan      Timothy  2013       14     Oxford\n",
      "Sweden        June  2014        1  Cambridge\n",
      "Norway         Amy  2014        7     Oxford\n"
     ]
    }
   ],
   "source": [
    "# add schools col\n",
    "schools = np.array(['Cambridge','Oxford','Oxford','Cambridge','Oxford'])\n",
    "df['school'] = schools\n",
    "print(df)"
   ]
  },
  {
   "cell_type": "code",
   "execution_count": 74,
   "metadata": {},
   "outputs": [
    {
     "name": "stdout",
     "output_type": "stream",
     "text": [
      "            name  year  reports     school\n",
      "Singapore  Janet  2012        6  Cambridge\n",
      "Sweden      June  2014        1  Cambridge\n",
      "Norway       Amy  2014        7     Oxford\n"
     ]
    }
   ],
   "source": [
    "# removing rows\n",
    "\n",
    "print(df.drop(['China','Japan']))"
   ]
  },
  {
   "cell_type": "code",
   "execution_count": 75,
   "metadata": {},
   "outputs": [
    {
     "name": "stdout",
     "output_type": "stream",
     "text": [
      "              name  year  reports     school\n",
      "Singapore    Janet  2012        6  Cambridge\n",
      "Japan      Timothy  2013       14     Oxford\n",
      "Sweden        June  2014        1  Cambridge\n",
      "Norway         Amy  2014        7     Oxford\n"
     ]
    }
   ],
   "source": [
    "# drop row named Nad\n",
    "\n",
    "print(df[df.name != 'Nad'])"
   ]
  },
  {
   "cell_type": "code",
   "execution_count": 76,
   "metadata": {},
   "outputs": [
    {
     "name": "stdout",
     "output_type": "stream",
     "text": [
      "              name  year  reports     school\n",
      "Singapore    Janet  2012        6  Cambridge\n",
      "Japan      Timothy  2013       14     Oxford\n",
      "Sweden        June  2014        1  Cambridge\n",
      "Norway         Amy  2014        7     Oxford\n"
     ]
    }
   ],
   "source": [
    "# remove based on row number\n",
    "print(df.drop(df.index[1]))"
   ]
  },
  {
   "cell_type": "code",
   "execution_count": 78,
   "metadata": {},
   "outputs": [
    {
     "name": "stdout",
     "output_type": "stream",
     "text": [
      "            name  year  reports     school\n",
      "Singapore  Janet  2012        6  Cambridge\n",
      "Sweden      June  2014        1  Cambridge\n",
      "Norway       Amy  2014        7     Oxford\n"
     ]
    }
   ],
   "source": [
    "print(df.drop(df.index[[1,2]]))"
   ]
  },
  {
   "cell_type": "code",
   "execution_count": 79,
   "metadata": {},
   "outputs": [
    {
     "name": "stdout",
     "output_type": "stream",
     "text": [
      "              name  year  reports     school\n",
      "Singapore    Janet  2012        6  Cambridge\n",
      "China          Nad  2012       13     Oxford\n",
      "Japan      Timothy  2013       14     Oxford\n",
      "Norway         Amy  2014        7     Oxford\n"
     ]
    }
   ],
   "source": [
    "print(df.drop(df.index[-2]))"
   ]
  },
  {
   "cell_type": "code",
   "execution_count": 80,
   "metadata": {},
   "outputs": [
    {
     "name": "stdout",
     "output_type": "stream",
     "text": [
      "              name  year     school\n",
      "Singapore    Janet  2012  Cambridge\n",
      "China          Nad  2012     Oxford\n",
      "Japan      Timothy  2013     Oxford\n",
      "Sweden        June  2014  Cambridge\n",
      "Norway         Amy  2014     Oxford\n"
     ]
    }
   ],
   "source": [
    "# removing cols. drop reports col\n",
    "\n",
    "print(df.drop('reports', axis=1))"
   ]
  },
  {
   "cell_type": "code",
   "execution_count": 81,
   "metadata": {},
   "outputs": [
    {
     "name": "stdout",
     "output_type": "stream",
     "text": [
      "              name  reports     school\n",
      "Singapore    Janet        6  Cambridge\n",
      "China          Nad       13     Oxford\n",
      "Japan      Timothy       14     Oxford\n",
      "Sweden        June        1  Cambridge\n",
      "Norway         Amy        7     Oxford\n"
     ]
    }
   ],
   "source": [
    "print(df.drop(df.columns[1],axis=1)) #drop using columns number"
   ]
  },
  {
   "cell_type": "code",
   "execution_count": 82,
   "metadata": {},
   "outputs": [
    {
     "name": "stdout",
     "output_type": "stream",
     "text": [
      "              name  reports\n",
      "Singapore    Janet        6\n",
      "China          Nad       13\n",
      "Japan      Timothy       14\n",
      "Sweden        June        1\n",
      "Norway         Amy        7\n"
     ]
    }
   ],
   "source": [
    "# drop multiple cols\n",
    "\n",
    "print(df.drop(df.columns[[1,3]], axis=1))"
   ]
  },
  {
   "cell_type": "code",
   "execution_count": 83,
   "metadata": {},
   "outputs": [
    {
     "name": "stdout",
     "output_type": "stream",
     "text": [
      "   Gender  Team\n",
      "0    Male     1\n",
      "1    Male     2\n",
      "2  Female     3\n",
      "3  Female     3\n",
      "4  Female     1\n"
     ]
    }
   ],
   "source": [
    "# generating a crosstab:\n",
    "\n",
    "df = pd.DataFrame(\n",
    "{\n",
    "    'Gender': ['Male', 'Male', 'Female', 'Female', 'Female'],\n",
    "    'Team': [1,2,3,3,1]\n",
    "})\n",
    "print(df)"
   ]
  },
  {
   "cell_type": "code",
   "execution_count": 84,
   "metadata": {},
   "outputs": [
    {
     "name": "stdout",
     "output_type": "stream",
     "text": [
      "displaying the distribution of genders in each team\n",
      "Team    1  2  3\n",
      "Gender         \n",
      "Female  1  0  2\n",
      "Male    1  1  0\n"
     ]
    }
   ],
   "source": [
    "print(\"displaying the distribution of genders in each team\")\n",
    "print(pd.crosstab(df.Gender, df.Team))"
   ]
  },
  {
   "cell_type": "code",
   "execution_count": null,
   "metadata": {},
   "outputs": [],
   "source": []
  }
 ],
 "metadata": {
  "kernelspec": {
   "display_name": "Python (learn-env)",
   "language": "python",
   "name": "learn-env"
  },
  "language_info": {
   "codemirror_mode": {
    "name": "ipython",
    "version": 3
   },
   "file_extension": ".py",
   "mimetype": "text/x-python",
   "name": "python",
   "nbconvert_exporter": "python",
   "pygments_lexer": "ipython3",
   "version": "3.8.8"
  }
 },
 "nbformat": 4,
 "nbformat_minor": 4
}
