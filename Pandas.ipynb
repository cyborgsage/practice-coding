{
 "cells": [
  {
   "cell_type": "code",
   "execution_count": 2,
   "metadata": {},
   "outputs": [],
   "source": [
    "import pandas as pd\n",
    "import numpy as np"
   ]
  },
  {
   "cell_type": "code",
   "execution_count": 3,
   "metadata": {},
   "outputs": [
    {
     "name": "stdout",
     "output_type": "stream",
     "text": [
      "0    1\n",
      "1    2\n",
      "2    3\n",
      "3    4\n",
      "4    5\n",
      "dtype: int64\n"
     ]
    }
   ],
   "source": [
    "# Pandas Series\n",
    "\n",
    "series = pd.Series([1,2,3,4,5])\n",
    "print(series)"
   ]
  },
  {
   "cell_type": "code",
   "execution_count": 4,
   "metadata": {},
   "outputs": [
    {
     "name": "stdout",
     "output_type": "stream",
     "text": [
      "a    1\n",
      "b    2\n",
      "c    3\n",
      "d    4\n",
      "c    5\n",
      "dtype: int64\n"
     ]
    }
   ],
   "source": [
    "# Create using specified index\n",
    "series = pd.Series([1,2,3,4,5], index=['a','b','c','d','c'])\n",
    "print(series)"
   ]
  },
  {
   "cell_type": "code",
   "execution_count": 5,
   "metadata": {},
   "outputs": [
    {
     "name": "stdout",
     "output_type": "stream",
     "text": [
      "3\n",
      "3\n"
     ]
    }
   ],
   "source": [
    "# Accessing elements in a series\n",
    "print(series[2])\n",
    "print(series.iloc[2])"
   ]
  },
  {
   "cell_type": "code",
   "execution_count": 6,
   "metadata": {},
   "outputs": [
    {
     "name": "stdout",
     "output_type": "stream",
     "text": [
      "4\n",
      "4\n"
     ]
    }
   ],
   "source": [
    "print(series['d'])\n",
    "print(series.loc['d'])"
   ]
  },
  {
   "cell_type": "code",
   "execution_count": 7,
   "metadata": {},
   "outputs": [
    {
     "name": "stdout",
     "output_type": "stream",
     "text": [
      "c    3\n",
      "c    5\n",
      "dtype: int64\n"
     ]
    }
   ],
   "source": [
    "print(series['c'])"
   ]
  },
  {
   "cell_type": "code",
   "execution_count": 8,
   "metadata": {},
   "outputs": [
    {
     "name": "stdout",
     "output_type": "stream",
     "text": [
      "c    3\n",
      "d    4\n",
      "c    5\n",
      "dtype: int64\n",
      "c    3\n",
      "d    4\n",
      "c    5\n",
      "dtype: int64\n"
     ]
    }
   ],
   "source": [
    "print(series[2:])\n",
    "print(series.iloc[2:])"
   ]
  },
  {
   "cell_type": "code",
   "execution_count": 9,
   "metadata": {},
   "outputs": [
    {
     "name": "stdout",
     "output_type": "stream",
     "text": [
      "DatetimeIndex(['2019-05-25', '2019-05-26', '2019-05-27', '2019-05-28',\n",
      "               '2019-05-29', '2019-05-30', '2019-05-31', '2019-06-01',\n",
      "               '2019-06-02', '2019-06-03', '2019-06-04', '2019-06-05'],\n",
      "              dtype='datetime64[ns]', freq='D')\n"
     ]
    }
   ],
   "source": [
    "# Specifying a datetime range as the index of a series\n",
    "dates1 = pd.date_range('20190525', periods=12)\n",
    "print(dates1)"
   ]
  },
  {
   "cell_type": "code",
   "execution_count": 10,
   "metadata": {},
   "outputs": [
    {
     "name": "stdout",
     "output_type": "stream",
     "text": [
      "2019-05-25     1\n",
      "2019-05-26     2\n",
      "2019-05-27     3\n",
      "2019-05-28     4\n",
      "2019-05-29     5\n",
      "2019-05-30     6\n",
      "2019-05-31     7\n",
      "2019-06-01     8\n",
      "2019-06-02     9\n",
      "2019-06-03    10\n",
      "2019-06-04    11\n",
      "2019-06-05    12\n",
      "Freq: D, dtype: int64\n"
     ]
    }
   ],
   "source": [
    "series = pd.Series([1,2,3,4,5,6,7,8,9,10,11,12])\n",
    "series.index = dates1\n",
    "print(series)"
   ]
  },
  {
   "cell_type": "code",
   "execution_count": 11,
   "metadata": {},
   "outputs": [
    {
     "name": "stdout",
     "output_type": "stream",
     "text": [
      "DatetimeIndex(['2019-05-31', '2019-06-30', '2019-07-31', '2019-08-31',\n",
      "               '2019-09-30', '2019-10-31', '2019-11-30', '2019-12-31',\n",
      "               '2020-01-31', '2020-02-29', '2020-03-31', '2020-04-30'],\n",
      "              dtype='datetime64[ns]', freq='M')\n"
     ]
    }
   ],
   "source": [
    "# change the frequency parameter to month. will create datetime index of month intervals\n",
    "\n",
    "dates2 = pd.date_range('2019-05-01', periods=12, freq='M')\n",
    "print(dates2)"
   ]
  },
  {
   "cell_type": "code",
   "execution_count": 12,
   "metadata": {},
   "outputs": [
    {
     "data": {
      "text/plain": [
       "DatetimeIndex(['2019-05-31', '2019-06-30', '2019-07-31', '2019-08-31',\n",
       "               '2019-09-30', '2019-10-31', '2019-11-30', '2019-12-31',\n",
       "               '2020-01-31', '2020-02-29', '2020-03-31', '2020-04-30'],\n",
       "              dtype='datetime64[ns]', freq='M')"
      ]
     },
     "execution_count": 12,
     "metadata": {},
     "output_type": "execute_result"
    }
   ],
   "source": [
    "# start date paramter doesn't require hyphens\n",
    "dates_test = pd.date_range('20190501', periods=12, freq='M')\n",
    "dates_test"
   ]
  },
  {
   "cell_type": "code",
   "execution_count": 13,
   "metadata": {},
   "outputs": [
    {
     "name": "stdout",
     "output_type": "stream",
     "text": [
      "DatetimeIndex(['2019-05-01', '2019-06-01', '2019-07-01', '2019-08-01',\n",
      "               '2019-09-01', '2019-10-01', '2019-11-01', '2019-12-01',\n",
      "               '2020-01-01', '2020-02-01', '2020-03-01', '2020-04-01'],\n",
      "              dtype='datetime64[ns]', freq='MS')\n"
     ]
    }
   ],
   "source": [
    "# MS as in month start freq\n",
    "dates2 = pd.date_range('20190501', periods=12, freq='MS')\n",
    "print(dates2)"
   ]
  },
  {
   "cell_type": "code",
   "execution_count": 14,
   "metadata": {},
   "outputs": [
    {
     "data": {
      "text/plain": [
       "DatetimeIndex(['2019-05-17 09:00:00', '2019-05-17 10:00:00',\n",
       "               '2019-05-17 11:00:00', '2019-05-17 12:00:00',\n",
       "               '2019-05-17 13:00:00', '2019-05-17 14:00:00',\n",
       "               '2019-05-17 15:00:00', '2019-05-17 16:00:00'],\n",
       "              dtype='datetime64[ns]', freq='H')"
      ]
     },
     "execution_count": 14,
     "metadata": {},
     "output_type": "execute_result"
    }
   ],
   "source": [
    "# can also set time: (in hours here)\n",
    "\n",
    "dates3 = pd.date_range('20190517 09:00:00', periods=8, freq='H')\n",
    "dates3"
   ]
  },
  {
   "cell_type": "code",
   "execution_count": 15,
   "metadata": {},
   "outputs": [
    {
     "name": "stdout",
     "output_type": "stream",
     "text": [
      "          A         B         C         D\n",
      "0  0.415294 -0.454378 -1.043012 -0.307626\n",
      "1 -1.126547 -0.279780  0.202844 -0.838109\n",
      "2 -0.162302 -1.297906  0.132521 -1.000656\n",
      "3 -0.624140 -1.297406  0.324193  1.377802\n",
      "4 -1.194187  0.403221 -1.021294  0.050534\n",
      "5 -0.727682  0.058076 -0.642380 -0.434955\n",
      "6 -0.293408 -1.436055  0.532461 -0.941544\n",
      "7 -1.224564 -0.635031 -1.434794  0.734527\n",
      "8  0.138088 -0.016465  0.359906 -1.724983\n",
      "9  1.247254 -1.378253  0.690674 -1.294409\n"
     ]
    }
   ],
   "source": [
    "# Pandas Dataframe with dimension 10x4, 10 rows and 4 columns\n",
    "df = pd.DataFrame(np.random.randn(10,4),\n",
    "                 columns=list('ABCD'))\n",
    "print(df)"
   ]
  },
  {
   "cell_type": "code",
   "execution_count": 16,
   "metadata": {},
   "outputs": [
    {
     "data": {
      "text/html": [
       "<div>\n",
       "<style scoped>\n",
       "    .dataframe tbody tr th:only-of-type {\n",
       "        vertical-align: middle;\n",
       "    }\n",
       "\n",
       "    .dataframe tbody tr th {\n",
       "        vertical-align: top;\n",
       "    }\n",
       "\n",
       "    .dataframe thead th {\n",
       "        text-align: right;\n",
       "    }\n",
       "</style>\n",
       "<table border=\"1\" class=\"dataframe\">\n",
       "  <thead>\n",
       "    <tr style=\"text-align: right;\">\n",
       "      <th></th>\n",
       "      <th>A</th>\n",
       "      <th>B</th>\n",
       "      <th>C</th>\n",
       "      <th>D</th>\n",
       "    </tr>\n",
       "  </thead>\n",
       "  <tbody>\n",
       "    <tr>\n",
       "      <th>0</th>\n",
       "      <td>0.187497</td>\n",
       "      <td>1.122150</td>\n",
       "      <td>-0.988277</td>\n",
       "      <td>-1.985934</td>\n",
       "    </tr>\n",
       "    <tr>\n",
       "      <th>1</th>\n",
       "      <td>0.360803</td>\n",
       "      <td>-0.562243</td>\n",
       "      <td>-0.340693</td>\n",
       "      <td>-0.986988</td>\n",
       "    </tr>\n",
       "    <tr>\n",
       "      <th>2</th>\n",
       "      <td>-0.040627</td>\n",
       "      <td>0.067333</td>\n",
       "      <td>-0.452978</td>\n",
       "      <td>0.686223</td>\n",
       "    </tr>\n",
       "    <tr>\n",
       "      <th>3</th>\n",
       "      <td>-0.279572</td>\n",
       "      <td>-0.702492</td>\n",
       "      <td>0.252265</td>\n",
       "      <td>0.958977</td>\n",
       "    </tr>\n",
       "    <tr>\n",
       "      <th>4</th>\n",
       "      <td>0.537438</td>\n",
       "      <td>-1.737568</td>\n",
       "      <td>0.714727</td>\n",
       "      <td>-0.939288</td>\n",
       "    </tr>\n",
       "  </tbody>\n",
       "</table>\n",
       "</div>"
      ],
      "text/plain": [
       "          A         B         C         D\n",
       "0  0.187497  1.122150 -0.988277 -1.985934\n",
       "1  0.360803 -0.562243 -0.340693 -0.986988\n",
       "2 -0.040627  0.067333 -0.452978  0.686223\n",
       "3 -0.279572 -0.702492  0.252265  0.958977\n",
       "4  0.537438 -1.737568  0.714727 -0.939288"
      ]
     },
     "execution_count": 16,
     "metadata": {},
     "output_type": "execute_result"
    }
   ],
   "source": [
    "df = pd.read_csv('data.csv')\n",
    "df.head()"
   ]
  },
  {
   "cell_type": "code",
   "execution_count": 19,
   "metadata": {},
   "outputs": [
    {
     "data": {
      "text/html": [
       "<div>\n",
       "<style scoped>\n",
       "    .dataframe tbody tr th:only-of-type {\n",
       "        vertical-align: middle;\n",
       "    }\n",
       "\n",
       "    .dataframe tbody tr th {\n",
       "        vertical-align: top;\n",
       "    }\n",
       "\n",
       "    .dataframe thead th {\n",
       "        text-align: right;\n",
       "    }\n",
       "</style>\n",
       "<table border=\"1\" class=\"dataframe\">\n",
       "  <thead>\n",
       "    <tr style=\"text-align: right;\">\n",
       "      <th></th>\n",
       "      <th>A</th>\n",
       "      <th>B</th>\n",
       "      <th>C</th>\n",
       "      <th>D</th>\n",
       "    </tr>\n",
       "  </thead>\n",
       "  <tbody>\n",
       "    <tr>\n",
       "      <th>2019-05-25</th>\n",
       "      <td>0.187497</td>\n",
       "      <td>1.122150</td>\n",
       "      <td>-0.988277</td>\n",
       "      <td>-1.985934</td>\n",
       "    </tr>\n",
       "    <tr>\n",
       "      <th>2019-05-26</th>\n",
       "      <td>0.360803</td>\n",
       "      <td>-0.562243</td>\n",
       "      <td>-0.340693</td>\n",
       "      <td>-0.986988</td>\n",
       "    </tr>\n",
       "    <tr>\n",
       "      <th>2019-05-27</th>\n",
       "      <td>-0.040627</td>\n",
       "      <td>0.067333</td>\n",
       "      <td>-0.452978</td>\n",
       "      <td>0.686223</td>\n",
       "    </tr>\n",
       "    <tr>\n",
       "      <th>2019-05-28</th>\n",
       "      <td>-0.279572</td>\n",
       "      <td>-0.702492</td>\n",
       "      <td>0.252265</td>\n",
       "      <td>0.958977</td>\n",
       "    </tr>\n",
       "    <tr>\n",
       "      <th>2019-05-29</th>\n",
       "      <td>0.537438</td>\n",
       "      <td>-1.737568</td>\n",
       "      <td>0.714727</td>\n",
       "      <td>-0.939288</td>\n",
       "    </tr>\n",
       "    <tr>\n",
       "      <th>2019-05-30</th>\n",
       "      <td>0.070011</td>\n",
       "      <td>-0.516443</td>\n",
       "      <td>-1.655689</td>\n",
       "      <td>0.246721</td>\n",
       "    </tr>\n",
       "    <tr>\n",
       "      <th>2019-05-31</th>\n",
       "      <td>0.001268</td>\n",
       "      <td>0.951517</td>\n",
       "      <td>2.107360</td>\n",
       "      <td>-0.108726</td>\n",
       "    </tr>\n",
       "    <tr>\n",
       "      <th>2019-06-01</th>\n",
       "      <td>-0.185258</td>\n",
       "      <td>0.856520</td>\n",
       "      <td>-0.686285</td>\n",
       "      <td>1.104195</td>\n",
       "    </tr>\n",
       "    <tr>\n",
       "      <th>2019-06-02</th>\n",
       "      <td>0.387023</td>\n",
       "      <td>1.706336</td>\n",
       "      <td>-2.452653</td>\n",
       "      <td>0.260466</td>\n",
       "    </tr>\n",
       "    <tr>\n",
       "      <th>2019-06-03</th>\n",
       "      <td>-1.054974</td>\n",
       "      <td>0.556775</td>\n",
       "      <td>-0.945219</td>\n",
       "      <td>-0.030295</td>\n",
       "    </tr>\n",
       "  </tbody>\n",
       "</table>\n",
       "</div>"
      ],
      "text/plain": [
       "                   A         B         C         D\n",
       "2019-05-25  0.187497  1.122150 -0.988277 -1.985934\n",
       "2019-05-26  0.360803 -0.562243 -0.340693 -0.986988\n",
       "2019-05-27 -0.040627  0.067333 -0.452978  0.686223\n",
       "2019-05-28 -0.279572 -0.702492  0.252265  0.958977\n",
       "2019-05-29  0.537438 -1.737568  0.714727 -0.939288\n",
       "2019-05-30  0.070011 -0.516443 -1.655689  0.246721\n",
       "2019-05-31  0.001268  0.951517  2.107360 -0.108726\n",
       "2019-06-01 -0.185258  0.856520 -0.686285  1.104195\n",
       "2019-06-02  0.387023  1.706336 -2.452653  0.260466\n",
       "2019-06-03 -1.054974  0.556775 -0.945219 -0.030295"
      ]
     },
     "execution_count": 19,
     "metadata": {},
     "output_type": "execute_result"
    }
   ],
   "source": [
    "# Specifying the index in a df\n",
    "\n",
    "days = pd.date_range('20190525', periods=10)\n",
    "df.index = days\n",
    "df"
   ]
  },
  {
   "cell_type": "code",
   "execution_count": 20,
   "metadata": {},
   "outputs": [
    {
     "name": "stdout",
     "output_type": "stream",
     "text": [
      "DatetimeIndex(['2019-05-25', '2019-05-26', '2019-05-27', '2019-05-28',\n",
      "               '2019-05-29', '2019-05-30', '2019-05-31', '2019-06-01',\n",
      "               '2019-06-02', '2019-06-03'],\n",
      "              dtype='datetime64[ns]', freq='D')\n"
     ]
    }
   ],
   "source": [
    "print(df.index)"
   ]
  },
  {
   "cell_type": "code",
   "execution_count": 21,
   "metadata": {},
   "outputs": [
    {
     "name": "stdout",
     "output_type": "stream",
     "text": [
      "[[ 1.874970e-01  1.122150e+00 -9.882770e-01 -1.985934e+00]\n",
      " [ 3.608030e-01 -5.622430e-01 -3.406930e-01 -9.869880e-01]\n",
      " [-4.062700e-02  6.733300e-02 -4.529780e-01  6.862230e-01]\n",
      " [-2.795720e-01 -7.024920e-01  2.522650e-01  9.589770e-01]\n",
      " [ 5.374380e-01 -1.737568e+00  7.147270e-01 -9.392880e-01]\n",
      " [ 7.001100e-02 -5.164430e-01 -1.655689e+00  2.467210e-01]\n",
      " [ 1.268000e-03  9.515170e-01  2.107360e+00 -1.087260e-01]\n",
      " [-1.852580e-01  8.565200e-01 -6.862850e-01  1.104195e+00]\n",
      " [ 3.870230e-01  1.706336e+00 -2.452653e+00  2.604660e-01]\n",
      " [-1.054974e+00  5.567750e-01 -9.452190e-01 -3.029500e-02]]\n"
     ]
    }
   ],
   "source": [
    "print(df.values)"
   ]
  },
  {
   "cell_type": "code",
   "execution_count": 25,
   "metadata": {},
   "outputs": [
    {
     "name": "stdout",
     "output_type": "stream",
     "text": [
      "               A          B          C          D\n",
      "count  10.000000  10.000000  10.000000  10.000000\n",
      "mean   -0.001639   0.174188  -0.444744  -0.079465\n",
      "std     0.451656   1.049677   1.267397   0.971164\n",
      "min    -1.054974  -1.737568  -2.452653  -1.985934\n",
      "25%    -0.149100  -0.550793  -0.977513  -0.731648\n",
      "50%     0.035640   0.312054  -0.569632   0.108213\n",
      "75%     0.317476   0.927768   0.104025   0.579784\n",
      "max     0.537438   1.706336   2.107360   1.104195\n",
      "A   -0.001639\n",
      "B    0.174188\n",
      "C   -0.444744\n",
      "D   -0.079465\n",
      "dtype: float64\n",
      "2019-05-25   -0.416141\n",
      "2019-05-26   -0.382280\n",
      "2019-05-27    0.064988\n",
      "2019-05-28    0.057294\n",
      "2019-05-29   -0.356173\n",
      "2019-05-30   -0.463850\n",
      "2019-05-31    0.737855\n",
      "2019-06-01    0.272293\n",
      "2019-06-02   -0.024707\n",
      "2019-06-03   -0.368428\n",
      "Freq: D, dtype: float64\n"
     ]
    }
   ],
   "source": [
    "# Get descriptive statistics\n",
    "print(df.describe())\n",
    "print(df.mean(0)) # columns\n",
    "print(df.mean(1)) # rows\n"
   ]
  },
  {
   "cell_type": "markdown",
   "metadata": {},
   "source": [
    "### Extracting from dataframes:\n",
    ".head(), .tail()"
   ]
  },
  {
   "cell_type": "code",
   "execution_count": 26,
   "metadata": {},
   "outputs": [
    {
     "name": "stdout",
     "output_type": "stream",
     "text": [
      "                   A         B         C         D\n",
      "2019-05-25  0.187497  1.122150 -0.988277 -1.985934\n",
      "2019-05-26  0.360803 -0.562243 -0.340693 -0.986988\n",
      "2019-05-27 -0.040627  0.067333 -0.452978  0.686223\n",
      "2019-05-28 -0.279572 -0.702492  0.252265  0.958977\n",
      "2019-05-29  0.537438 -1.737568  0.714727 -0.939288\n"
     ]
    }
   ],
   "source": [
    "print(df.head())"
   ]
  },
  {
   "cell_type": "code",
   "execution_count": 27,
   "metadata": {},
   "outputs": [
    {
     "name": "stdout",
     "output_type": "stream",
     "text": [
      "                   A         B         C         D\n",
      "2019-05-30  0.070011 -0.516443 -1.655689  0.246721\n",
      "2019-05-31  0.001268  0.951517  2.107360 -0.108726\n",
      "2019-06-01 -0.185258  0.856520 -0.686285  1.104195\n",
      "2019-06-02  0.387023  1.706336 -2.452653  0.260466\n",
      "2019-06-03 -1.054974  0.556775 -0.945219 -0.030295\n"
     ]
    }
   ],
   "source": [
    "print(df.tail())"
   ]
  },
  {
   "cell_type": "code",
   "execution_count": 34,
   "metadata": {},
   "outputs": [
    {
     "name": "stdout",
     "output_type": "stream",
     "text": [
      "2019-05-25    0.187497\n",
      "2019-05-26    0.360803\n",
      "2019-05-27   -0.040627\n",
      "2019-05-28   -0.279572\n",
      "2019-05-29    0.537438\n",
      "2019-05-30    0.070011\n",
      "2019-05-31    0.001268\n",
      "2019-06-01   -0.185258\n",
      "2019-06-02    0.387023\n",
      "2019-06-03   -1.054974\n",
      "Freq: D, Name: A, dtype: float64\n",
      "2019-05-25    0.187497\n",
      "2019-05-26    0.360803\n",
      "2019-05-27   -0.040627\n",
      "2019-05-28   -0.279572\n",
      "2019-05-29    0.537438\n",
      "2019-05-30    0.070011\n",
      "2019-05-31    0.001268\n",
      "2019-06-01   -0.185258\n",
      "2019-06-02    0.387023\n",
      "2019-06-03   -1.054974\n",
      "Freq: D, Name: A, dtype: float64\n"
     ]
    }
   ],
   "source": [
    "# selecting a specific column. returns a series\n",
    "print(df['A'])\n",
    "print(df.A)"
   ]
  },
  {
   "cell_type": "code",
   "execution_count": 35,
   "metadata": {},
   "outputs": [
    {
     "name": "stdout",
     "output_type": "stream",
     "text": [
      "                   A         B\n",
      "2019-05-25  0.187497  1.122150\n",
      "2019-05-26  0.360803 -0.562243\n",
      "2019-05-27 -0.040627  0.067333\n",
      "2019-05-28 -0.279572 -0.702492\n",
      "2019-05-29  0.537438 -1.737568\n",
      "2019-05-30  0.070011 -0.516443\n",
      "2019-05-31  0.001268  0.951517\n",
      "2019-06-01 -0.185258  0.856520\n",
      "2019-06-02  0.387023  1.706336\n",
      "2019-06-03 -1.054974  0.556775\n"
     ]
    }
   ],
   "source": [
    "# Double brackets because passing in a LIST of column labels. Instead of a list, you get a dataframe.\n",
    "\n",
    "print(df[['A','B']])"
   ]
  },
  {
   "cell_type": "code",
   "execution_count": 41,
   "metadata": {},
   "outputs": [
    {
     "name": "stdout",
     "output_type": "stream",
     "text": [
      "                   A         B         C         D\n",
      "2019-05-27 -0.040627  0.067333 -0.452978  0.686223\n",
      "2019-05-28 -0.279572 -0.702492  0.252265  0.958977\n",
      "                   A         B         C         D\n",
      "2019-05-27 -0.040627  0.067333 -0.452978  0.686223\n",
      "2019-05-28 -0.279572 -0.702492  0.252265  0.958977\n",
      "                   A         B         C         D\n",
      "2019-05-27 -0.040627  0.067333 -0.452978  0.686223\n",
      "2019-05-29  0.537438 -1.737568  0.714727 -0.939288\n",
      "A   -0.040627\n",
      "B    0.067333\n",
      "C   -0.452978\n",
      "D    0.686223\n",
      "Name: 2019-05-27 00:00:00, dtype: float64\n"
     ]
    }
   ],
   "source": [
    "# Slicing based on row number. this extracts row number 2 thru 4 (not inclusive)\n",
    "print(df[2:4])\n",
    "print(df.iloc[2:4])\n",
    "# return only rows 2 and 4:\n",
    "print(df.iloc[[2,4]])\n",
    "# print row 2:\n",
    "print(df.iloc[2])"
   ]
  },
  {
   "cell_type": "code",
   "execution_count": null,
   "metadata": {},
   "outputs": [],
   "source": []
  }
 ],
 "metadata": {
  "kernelspec": {
   "display_name": "Python (learn-env)",
   "language": "python",
   "name": "learn-env"
  },
  "language_info": {
   "codemirror_mode": {
    "name": "ipython",
    "version": 3
   },
   "file_extension": ".py",
   "mimetype": "text/x-python",
   "name": "python",
   "nbconvert_exporter": "python",
   "pygments_lexer": "ipython3",
   "version": "3.8.8"
  }
 },
 "nbformat": 4,
 "nbformat_minor": 4
}
